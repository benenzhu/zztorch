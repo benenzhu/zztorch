{
 "cells": [
  {
   "cell_type": "code",
   "execution_count": 7,
   "id": "8fb0e934-5989-4348-954a-e398dbc044b1",
   "metadata": {},
   "outputs": [],
   "source": [
    "import torch"
   ]
  },
  {
   "cell_type": "code",
   "execution_count": 8,
   "id": "2d8dc0a7-861f-4dc1-b6fb-a49e623ffd36",
   "metadata": {},
   "outputs": [],
   "source": [
    "import torchvision.datasets as dset\n",
    "from torchvision import transforms as tsf\n",
    "from torch.utils.data import DataLoader"
   ]
  },
  {
   "cell_type": "code",
   "execution_count": 9,
   "id": "f872f006-60f1-4b0d-bf16-488f0c455694",
   "metadata": {},
   "outputs": [],
   "source": [
    "data = DataLoader(dset.ImageFolder('image',transform =  tsf.Compose([tsf.ToTensor(),tsf.Resize([112,112])])))"
   ]
  },
  {
   "cell_type": "code",
   "execution_count": 10,
   "id": "aa29cc8f-b2c9-420c-b001-1fead42934b9",
   "metadata": {},
   "outputs": [
    {
     "name": "stdout",
     "output_type": "stream",
     "text": [
      "torch.Size([1, 3, 112, 112])\n"
     ]
    }
   ],
   "source": [
    "from backbones import get_model\n",
    "net = get_model('r100',fp16=False).eval().cuda()\n",
    "net.load_state_dict(torch.load('/private/data/backbone.pth'))\n",
    "for i in data:\n",
    "    i = (i[0]-0.5)*2\n",
    "    print(i.shape)\n",
    "    torch.save(net(i.cuda()),'save/js.pt')"
   ]
  },
  {
   "cell_type": "code",
   "execution_count": 15,
   "id": "9b75bdf9-cbba-4969-b8c4-8d4376e26c3b",
   "metadata": {},
   "outputs": [
    {
     "name": "stdout",
     "output_type": "stream",
     "text": [
      "Object `torch.Variable` not found.\n"
     ]
    }
   ],
   "source": [
    "torch.Variable"
   ]
  },
  {
   "cell_type": "code",
   "execution_count": null,
   "id": "594768da-3018-4f49-9dee-a7a5141bc75e",
   "metadata": {},
   "outputs": [],
   "source": []
  }
 ],
 "metadata": {
  "jupytext": {
   "text_representation": {
    "extension": ".py",
    "format_name": "light",
    "format_version": "1.5",
    "jupytext_version": "1.11.3"
   }
  },
  "kernelspec": {
   "display_name": "Python 3",
   "language": "python",
   "name": "python3"
  },
  "language_info": {
   "codemirror_mode": {
    "name": "ipython",
    "version": 3
   },
   "file_extension": ".py",
   "mimetype": "text/x-python",
   "name": "python",
   "nbconvert_exporter": "python",
   "pygments_lexer": "ipython3",
   "version": "3.6.9"
  }
 },
 "nbformat": 4,
 "nbformat_minor": 5
}
