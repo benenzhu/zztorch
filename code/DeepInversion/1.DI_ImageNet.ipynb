{
 "cells": [
  {
   "cell_type": "code",
   "execution_count": 1,
   "id": "33863ad2-ff78-4d24-87f1-7febc89cb758",
   "metadata": {},
   "outputs": [],
   "source": [
    "import torch\n",
    "import random"
   ]
  },
  {
   "cell_type": "code",
   "execution_count": 22,
   "id": "c7476f39-588a-4722-a84d-d2064700ba52",
   "metadata": {},
   "outputs": [],
   "source": [
    "class DeepInversionFeatureHook():\n",
    "    def __init__(self, module):\n",
    "        self.hook = module.register_forward_hook(self.hook_fn)\n",
    "    def hook_fn(self, module, input, output):\n",
    "        nch = input[0].shape[1]\n",
    "        mean = input[0].mean([0, 2, 3])\n",
    "        var = input[0].permute(1, 0, 2, 3).contiguous().view([nch, -1]).var(1, unbiased=False)\n",
    "        r_feature = torch.norm(module.running_var.data - var, 2) + torch.norm(\n",
    "            module.running_mean.data - mean, 2)\n",
    "        self.r_feature = r_feature\n",
    "    def close(self):\n",
    "        self.hook.remove()"
   ]
  },
  {
   "cell_type": "code",
   "execution_count": 23,
   "id": "5f0c8289-f6f7-4e91-9324-11f18989b9f6",
   "metadata": {},
   "outputs": [],
   "source": [
    "def get_image_prior_losses(inputs_jit):\n",
    "    diff1 = inputs_jit[:, :, :, :-1] - inputs_jit[:, :, :, 1:]\n",
    "    diff2 = inputs_jit[:, :, :-1, :] - inputs_jit[:, :, 1:, :]\n",
    "    diff3 = inputs_jit[:, :, 1:, :-1] - inputs_jit[:, :, :-1, 1:]\n",
    "    diff4 = inputs_jit[:, :, :-1, :-1] - inputs_jit[:, :, 1:, 1:]\n",
    "\n",
    "    loss_var_l2 = torch.norm(diff1) + torch.norm(diff2) + torch.norm(diff3) + torch.norm(diff4)\n",
    "    loss_var_l1 = (diff1.abs() / 255.0).mean() + (diff2.abs() / 255.0).mean() + (\n",
    "            diff3.abs() / 255.0).mean() + (diff4.abs() / 255.0).mean()\n",
    "    loss_var_l1 = loss_var_l1 * 255.0\n",
    "    return loss_var_l1, loss_var_l2"
   ]
  },
  {
   "cell_type": "code",
   "execution_count": 6,
   "id": "db552bf3-4eb2-4379-9436-9e5fd46c2394",
   "metadata": {},
   "outputs": [],
   "source": [
    "image_resolution = 112\n",
    "do_flip = True\n",
    "net = "
   ]
  },
  {
   "cell_type": "code",
   "execution_count": null,
   "id": "534c54cf-7979-4af5-bf9e-b158d2ea729c",
   "metadata": {},
   "outputs": [],
   "source": []
  },
  {
   "cell_type": "code",
   "execution_count": null,
   "id": "3ecf45dd-40e2-4670-9802-d758ab66b361",
   "metadata": {},
   "outputs": [],
   "source": []
  },
  {
   "cell_type": "code",
   "execution_count": null,
   "id": "0f1a397f-07ad-46b7-b3c3-20f94e0912bc",
   "metadata": {},
   "outputs": [],
   "source": []
  },
  {
   "cell_type": "code",
   "execution_count": null,
   "id": "0d811b78-4d7d-415d-8ac2-01c9255443ad",
   "metadata": {},
   "outputs": [],
   "source": []
  },
  {
   "cell_type": "code",
   "execution_count": null,
   "id": "1ac6348d-77c2-4c4e-9590-073f155de450",
   "metadata": {},
   "outputs": [],
   "source": []
  },
  {
   "cell_type": "code",
   "execution_count": null,
   "id": "e5601302-0986-47f2-803f-de9d607be084",
   "metadata": {},
   "outputs": [],
   "source": []
  }
 ],
 "metadata": {
  "jupytext": {
   "text_representation": {
    "extension": ".py",
    "format_name": "light",
    "format_version": "1.5",
    "jupytext_version": "1.11.3"
   }
  },
  "kernelspec": {
   "display_name": "Python 3",
   "language": "python",
   "name": "python3"
  },
  "language_info": {
   "codemirror_mode": {
    "name": "ipython",
    "version": 3
   },
   "file_extension": ".py",
   "mimetype": "text/x-python",
   "name": "python",
   "nbconvert_exporter": "python",
   "pygments_lexer": "ipython3",
   "version": "3.7.10"
  }
 },
 "nbformat": 4,
 "nbformat_minor": 5
}
