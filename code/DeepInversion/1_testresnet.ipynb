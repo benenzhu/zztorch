{
 "cells": [
  {
   "cell_type": "code",
   "execution_count": 1,
   "metadata": {},
   "outputs": [],
   "source": [
    "from iresnet import iresnet50"
   ]
  },
  {
   "cell_type": "code",
   "execution_count": 3,
   "metadata": {},
   "outputs": [
    {
     "name": "stdout",
     "output_type": "stream",
     "text": [
      "----------------------------------------------------------------\n",
      "        Layer (type)               Output Shape         Param #\n",
      "================================================================\n",
      "               Input          [-1, 3, 112, 112]               0\n",
      "            Conv2d-1         [-1, 64, 112, 112]           1,728\n",
      "       BatchNorm2d-2         [-1, 64, 112, 112]             128\n",
      "             PReLU-3         [-1, 64, 112, 112]              64\n",
      "       BatchNorm2d-4         [-1, 64, 112, 112]             128\n",
      "            Conv2d-5         [-1, 64, 112, 112]          36,864\n",
      "       BatchNorm2d-6         [-1, 64, 112, 112]             128\n",
      "             PReLU-7         [-1, 64, 112, 112]              64\n",
      "            Conv2d-8           [-1, 64, 56, 56]          36,864\n",
      "       BatchNorm2d-9           [-1, 64, 56, 56]             128\n",
      "           Conv2d-10           [-1, 64, 56, 56]           4,096\n",
      "      BatchNorm2d-11           [-1, 64, 56, 56]             128\n",
      "      IBasicBlock-12           [-1, 64, 56, 56]               0\n",
      "      BatchNorm2d-13           [-1, 64, 56, 56]             128\n",
      "           Conv2d-14           [-1, 64, 56, 56]          36,864\n",
      "      BatchNorm2d-15           [-1, 64, 56, 56]             128\n",
      "            PReLU-16           [-1, 64, 56, 56]              64\n",
      "           Conv2d-17           [-1, 64, 56, 56]          36,864\n",
      "      BatchNorm2d-18           [-1, 64, 56, 56]             128\n",
      "      IBasicBlock-19           [-1, 64, 56, 56]               0\n",
      "      BatchNorm2d-20           [-1, 64, 56, 56]             128\n",
      "           Conv2d-21           [-1, 64, 56, 56]          36,864\n",
      "      BatchNorm2d-22           [-1, 64, 56, 56]             128\n",
      "            PReLU-23           [-1, 64, 56, 56]              64\n",
      "           Conv2d-24           [-1, 64, 56, 56]          36,864\n",
      "      BatchNorm2d-25           [-1, 64, 56, 56]             128\n",
      "      IBasicBlock-26           [-1, 64, 56, 56]               0\n",
      "      BatchNorm2d-27           [-1, 64, 56, 56]             128\n",
      "           Conv2d-28          [-1, 128, 56, 56]          73,728\n",
      "      BatchNorm2d-29          [-1, 128, 56, 56]             256\n",
      "            PReLU-30          [-1, 128, 56, 56]             128\n",
      "           Conv2d-31          [-1, 128, 28, 28]         147,456\n",
      "      BatchNorm2d-32          [-1, 128, 28, 28]             256\n",
      "           Conv2d-33          [-1, 128, 28, 28]           8,192\n",
      "      BatchNorm2d-34          [-1, 128, 28, 28]             256\n",
      "      IBasicBlock-35          [-1, 128, 28, 28]               0\n",
      "      BatchNorm2d-36          [-1, 128, 28, 28]             256\n",
      "           Conv2d-37          [-1, 128, 28, 28]         147,456\n",
      "      BatchNorm2d-38          [-1, 128, 28, 28]             256\n",
      "            PReLU-39          [-1, 128, 28, 28]             128\n",
      "           Conv2d-40          [-1, 128, 28, 28]         147,456\n",
      "      BatchNorm2d-41          [-1, 128, 28, 28]             256\n",
      "      IBasicBlock-42          [-1, 128, 28, 28]               0\n",
      "      BatchNorm2d-43          [-1, 128, 28, 28]             256\n",
      "           Conv2d-44          [-1, 128, 28, 28]         147,456\n",
      "      BatchNorm2d-45          [-1, 128, 28, 28]             256\n",
      "            PReLU-46          [-1, 128, 28, 28]             128\n",
      "           Conv2d-47          [-1, 128, 28, 28]         147,456\n",
      "      BatchNorm2d-48          [-1, 128, 28, 28]             256\n",
      "      IBasicBlock-49          [-1, 128, 28, 28]               0\n",
      "      BatchNorm2d-50          [-1, 128, 28, 28]             256\n",
      "           Conv2d-51          [-1, 128, 28, 28]         147,456\n",
      "      BatchNorm2d-52          [-1, 128, 28, 28]             256\n",
      "            PReLU-53          [-1, 128, 28, 28]             128\n",
      "           Conv2d-54          [-1, 128, 28, 28]         147,456\n",
      "      BatchNorm2d-55          [-1, 128, 28, 28]             256\n",
      "      IBasicBlock-56          [-1, 128, 28, 28]               0\n",
      "      BatchNorm2d-57          [-1, 128, 28, 28]             256\n",
      "           Conv2d-58          [-1, 256, 28, 28]         294,912\n",
      "      BatchNorm2d-59          [-1, 256, 28, 28]             512\n",
      "            PReLU-60          [-1, 256, 28, 28]             256\n",
      "           Conv2d-61          [-1, 256, 14, 14]         589,824\n",
      "      BatchNorm2d-62          [-1, 256, 14, 14]             512\n",
      "           Conv2d-63          [-1, 256, 14, 14]          32,768\n",
      "      BatchNorm2d-64          [-1, 256, 14, 14]             512\n",
      "      IBasicBlock-65          [-1, 256, 14, 14]               0\n",
      "      BatchNorm2d-66          [-1, 256, 14, 14]             512\n",
      "           Conv2d-67          [-1, 256, 14, 14]         589,824\n",
      "      BatchNorm2d-68          [-1, 256, 14, 14]             512\n",
      "            PReLU-69          [-1, 256, 14, 14]             256\n",
      "           Conv2d-70          [-1, 256, 14, 14]         589,824\n",
      "      BatchNorm2d-71          [-1, 256, 14, 14]             512\n",
      "      IBasicBlock-72          [-1, 256, 14, 14]               0\n",
      "      BatchNorm2d-73          [-1, 256, 14, 14]             512\n",
      "           Conv2d-74          [-1, 256, 14, 14]         589,824\n",
      "      BatchNorm2d-75          [-1, 256, 14, 14]             512\n",
      "            PReLU-76          [-1, 256, 14, 14]             256\n",
      "           Conv2d-77          [-1, 256, 14, 14]         589,824\n",
      "      BatchNorm2d-78          [-1, 256, 14, 14]             512\n",
      "      IBasicBlock-79          [-1, 256, 14, 14]               0\n",
      "      BatchNorm2d-80          [-1, 256, 14, 14]             512\n",
      "           Conv2d-81          [-1, 256, 14, 14]         589,824\n",
      "      BatchNorm2d-82          [-1, 256, 14, 14]             512\n",
      "            PReLU-83          [-1, 256, 14, 14]             256\n",
      "           Conv2d-84          [-1, 256, 14, 14]         589,824\n",
      "      BatchNorm2d-85          [-1, 256, 14, 14]             512\n",
      "      IBasicBlock-86          [-1, 256, 14, 14]               0\n",
      "      BatchNorm2d-87          [-1, 256, 14, 14]             512\n",
      "           Conv2d-88          [-1, 256, 14, 14]         589,824\n",
      "      BatchNorm2d-89          [-1, 256, 14, 14]             512\n",
      "            PReLU-90          [-1, 256, 14, 14]             256\n",
      "           Conv2d-91          [-1, 256, 14, 14]         589,824\n",
      "      BatchNorm2d-92          [-1, 256, 14, 14]             512\n",
      "      IBasicBlock-93          [-1, 256, 14, 14]               0\n",
      "      BatchNorm2d-94          [-1, 256, 14, 14]             512\n",
      "           Conv2d-95          [-1, 256, 14, 14]         589,824\n",
      "      BatchNorm2d-96          [-1, 256, 14, 14]             512\n",
      "            PReLU-97          [-1, 256, 14, 14]             256\n",
      "           Conv2d-98          [-1, 256, 14, 14]         589,824\n",
      "      BatchNorm2d-99          [-1, 256, 14, 14]             512\n",
      "     IBasicBlock-100          [-1, 256, 14, 14]               0\n",
      "     BatchNorm2d-101          [-1, 256, 14, 14]             512\n",
      "          Conv2d-102          [-1, 256, 14, 14]         589,824\n",
      "     BatchNorm2d-103          [-1, 256, 14, 14]             512\n",
      "           PReLU-104          [-1, 256, 14, 14]             256\n",
      "          Conv2d-105          [-1, 256, 14, 14]         589,824\n",
      "     BatchNorm2d-106          [-1, 256, 14, 14]             512\n",
      "     IBasicBlock-107          [-1, 256, 14, 14]               0\n",
      "     BatchNorm2d-108          [-1, 256, 14, 14]             512\n",
      "          Conv2d-109          [-1, 256, 14, 14]         589,824\n",
      "     BatchNorm2d-110          [-1, 256, 14, 14]             512\n",
      "           PReLU-111          [-1, 256, 14, 14]             256\n",
      "          Conv2d-112          [-1, 256, 14, 14]         589,824\n",
      "     BatchNorm2d-113          [-1, 256, 14, 14]             512\n",
      "     IBasicBlock-114          [-1, 256, 14, 14]               0\n",
      "     BatchNorm2d-115          [-1, 256, 14, 14]             512\n",
      "          Conv2d-116          [-1, 256, 14, 14]         589,824\n",
      "     BatchNorm2d-117          [-1, 256, 14, 14]             512\n",
      "           PReLU-118          [-1, 256, 14, 14]             256\n",
      "          Conv2d-119          [-1, 256, 14, 14]         589,824\n",
      "     BatchNorm2d-120          [-1, 256, 14, 14]             512\n",
      "     IBasicBlock-121          [-1, 256, 14, 14]               0\n",
      "     BatchNorm2d-122          [-1, 256, 14, 14]             512\n",
      "          Conv2d-123          [-1, 256, 14, 14]         589,824\n",
      "     BatchNorm2d-124          [-1, 256, 14, 14]             512\n",
      "           PReLU-125          [-1, 256, 14, 14]             256\n",
      "          Conv2d-126          [-1, 256, 14, 14]         589,824\n",
      "     BatchNorm2d-127          [-1, 256, 14, 14]             512\n",
      "     IBasicBlock-128          [-1, 256, 14, 14]               0\n",
      "     BatchNorm2d-129          [-1, 256, 14, 14]             512\n",
      "          Conv2d-130          [-1, 256, 14, 14]         589,824\n",
      "     BatchNorm2d-131          [-1, 256, 14, 14]             512\n",
      "           PReLU-132          [-1, 256, 14, 14]             256\n",
      "          Conv2d-133          [-1, 256, 14, 14]         589,824\n",
      "     BatchNorm2d-134          [-1, 256, 14, 14]             512\n",
      "     IBasicBlock-135          [-1, 256, 14, 14]               0\n",
      "     BatchNorm2d-136          [-1, 256, 14, 14]             512\n",
      "          Conv2d-137          [-1, 256, 14, 14]         589,824\n",
      "     BatchNorm2d-138          [-1, 256, 14, 14]             512\n",
      "           PReLU-139          [-1, 256, 14, 14]             256\n",
      "          Conv2d-140          [-1, 256, 14, 14]         589,824\n",
      "     BatchNorm2d-141          [-1, 256, 14, 14]             512\n",
      "     IBasicBlock-142          [-1, 256, 14, 14]               0\n",
      "     BatchNorm2d-143          [-1, 256, 14, 14]             512\n",
      "          Conv2d-144          [-1, 256, 14, 14]         589,824\n",
      "     BatchNorm2d-145          [-1, 256, 14, 14]             512\n",
      "           PReLU-146          [-1, 256, 14, 14]             256\n",
      "          Conv2d-147          [-1, 256, 14, 14]         589,824\n",
      "     BatchNorm2d-148          [-1, 256, 14, 14]             512\n",
      "     IBasicBlock-149          [-1, 256, 14, 14]               0\n",
      "     BatchNorm2d-150          [-1, 256, 14, 14]             512\n",
      "          Conv2d-151          [-1, 256, 14, 14]         589,824\n",
      "     BatchNorm2d-152          [-1, 256, 14, 14]             512\n",
      "           PReLU-153          [-1, 256, 14, 14]             256\n",
      "          Conv2d-154          [-1, 256, 14, 14]         589,824\n",
      "     BatchNorm2d-155          [-1, 256, 14, 14]             512\n",
      "     IBasicBlock-156          [-1, 256, 14, 14]               0\n",
      "     BatchNorm2d-157          [-1, 256, 14, 14]             512\n",
      "          Conv2d-158          [-1, 512, 14, 14]       1,179,648\n",
      "     BatchNorm2d-159          [-1, 512, 14, 14]           1,024\n",
      "           PReLU-160          [-1, 512, 14, 14]             512\n",
      "          Conv2d-161            [-1, 512, 7, 7]       2,359,296\n",
      "     BatchNorm2d-162            [-1, 512, 7, 7]           1,024\n",
      "          Conv2d-163            [-1, 512, 7, 7]         131,072\n",
      "     BatchNorm2d-164            [-1, 512, 7, 7]           1,024\n",
      "     IBasicBlock-165            [-1, 512, 7, 7]               0\n",
      "     BatchNorm2d-166            [-1, 512, 7, 7]           1,024\n",
      "          Conv2d-167            [-1, 512, 7, 7]       2,359,296\n",
      "     BatchNorm2d-168            [-1, 512, 7, 7]           1,024\n",
      "           PReLU-169            [-1, 512, 7, 7]             512\n",
      "          Conv2d-170            [-1, 512, 7, 7]       2,359,296\n",
      "     BatchNorm2d-171            [-1, 512, 7, 7]           1,024\n",
      "     IBasicBlock-172            [-1, 512, 7, 7]               0\n",
      "     BatchNorm2d-173            [-1, 512, 7, 7]           1,024\n",
      "          Conv2d-174            [-1, 512, 7, 7]       2,359,296\n",
      "     BatchNorm2d-175            [-1, 512, 7, 7]           1,024\n",
      "           PReLU-176            [-1, 512, 7, 7]             512\n",
      "          Conv2d-177            [-1, 512, 7, 7]       2,359,296\n",
      "     BatchNorm2d-178            [-1, 512, 7, 7]           1,024\n",
      "     IBasicBlock-179            [-1, 512, 7, 7]               0\n",
      "     BatchNorm2d-180            [-1, 512, 7, 7]           1,024\n",
      "         Dropout-181                [-1, 25088]               0\n",
      "          Linear-182                  [-1, 512]      12,845,568\n",
      "     BatchNorm1d-183                  [-1, 512]           1,024\n",
      "         IResNet-184                  [-1, 512]               0\n",
      "================================================================\n",
      "Total params: 43,590,848\n",
      "Trainable params: 43,589,824\n",
      "Non-trainable params: 1,024\n",
      "----------------------------------------------------------------\n",
      "Input size (MB): 0.14\n",
      "Forward/backward pass size (MB): 151.41\n",
      "Params size (MB): 166.29\n",
      "Estimated Total Size (MB): 317.84\n",
      "----------------------------------------------------------------\n"
     ]
    }
   ],
   "source": [
    "import zz\n",
    "zz.summary(iresnet50(),(3,112,112))"
   ]
  },
  {
   "cell_type": "code",
   "execution_count": 1,
   "metadata": {},
   "outputs": [
    {
     "name": "stdout",
     "output_type": "stream",
     "text": [
      "All seed set to 42\n",
      "selected device cuda:0\n"
     ]
    }
   ],
   "source": [
    "import torch\n",
    "import zz\n",
    "from torch import nn"
   ]
  },
  {
   "cell_type": "code",
   "execution_count": 2,
   "metadata": {},
   "outputs": [],
   "source": [
    "trainL, testL,_,_ = zz.get_cifar10_mlleaks_fast(batch_size=128)"
   ]
  },
  {
   "cell_type": "code",
   "execution_count": 7,
   "metadata": {},
   "outputs": [
    {
     "name": "stdout",
     "output_type": "stream",
     "text": [
      "----------------------------------------------------------------\n",
      "        Layer (type)               Output Shape         Param #\n",
      "================================================================\n",
      "               Input            [-1, 3, 32, 32]               0\n",
      "            Conv2d-1           [-1, 32, 32, 32]           2,432\n",
      "       BatchNorm2d-2           [-1, 32, 32, 32]              64\n",
      "              ReLU-3           [-1, 32, 32, 32]               0\n",
      "         MaxPool2d-4           [-1, 32, 16, 16]               0\n",
      "            Conv2d-5           [-1, 32, 12, 12]          25,632\n",
      "       BatchNorm2d-6           [-1, 32, 12, 12]              64\n",
      "              ReLU-7           [-1, 32, 12, 12]               0\n",
      "         MaxPool2d-8             [-1, 32, 6, 6]               0\n",
      "           Flatten-9                 [-1, 1152]               0\n",
      "           Linear-10                  [-1, 128]         147,584\n",
      "             Tanh-11                  [-1, 128]               0\n",
      "           Linear-12                   [-1, 10]           1,290\n",
      "              CNN-13                   [-1, 10]               0\n",
      "================================================================\n",
      "Total params: 177,066\n",
      "Trainable params: 177,066\n",
      "Non-trainable params: 0\n",
      "----------------------------------------------------------------\n",
      "Input size (MB): 0.01\n",
      "Forward/backward pass size (MB): 0.94\n",
      "Params size (MB): 0.68\n",
      "Estimated Total Size (MB): 1.62\n",
      "----------------------------------------------------------------\n"
     ]
    }
   ],
   "source": [
    "class CNN(nn.Module):\n",
    "    def __init__(self):\n",
    "        super(CNN, self).__init__()\n",
    "        self.l1 = nn.Sequential(\n",
    "            nn.Conv2d(3,32,5,padding=2), \n",
    "            nn.BatchNorm2d(32),\n",
    "            nn.ReLU(),\n",
    "            nn.MaxPool2d(2),\n",
    "            nn.Conv2d(32,32,5), \n",
    "            nn.BatchNorm2d(32),\n",
    "            nn.ReLU(),\n",
    "            nn.MaxPool2d(2),\n",
    "            nn.Flatten(),\n",
    "            nn.Linear(1152,128),\n",
    "            nn.Tanh(),\n",
    "            nn.Linear(128,10)\n",
    "        )\n",
    "    def forward(self, image):\n",
    "        return self.l1(image)\n",
    "\n",
    "zz.summary(CNN(), (3,32,32))"
   ]
  },
  {
   "cell_type": "code",
   "execution_count": 25,
   "metadata": {},
   "outputs": [
    {
     "data": {
      "text/plain": [
       "CNN(\n",
       "  (l1): Sequential(\n",
       "    (0): Conv2d(3, 32, kernel_size=(5, 5), stride=(1, 1), padding=(2, 2))\n",
       "    (1): BatchNorm2d(32, eps=1e-05, momentum=0.1, affine=True, track_running_stats=True)\n",
       "    (2): ReLU()\n",
       "    (3): MaxPool2d(kernel_size=2, stride=2, padding=0, dilation=1, ceil_mode=False)\n",
       "    (4): Conv2d(32, 32, kernel_size=(5, 5), stride=(1, 1))\n",
       "    (5): BatchNorm2d(32, eps=1e-05, momentum=0.1, affine=True, track_running_stats=True)\n",
       "    (6): ReLU()\n",
       "    (7): MaxPool2d(kernel_size=2, stride=2, padding=0, dilation=1, ceil_mode=False)\n",
       "    (8): Flatten(start_dim=1, end_dim=-1)\n",
       "    (9): Linear(in_features=1152, out_features=128, bias=True)\n",
       "    (10): Tanh()\n",
       "    (11): Linear(in_features=128, out_features=10, bias=True)\n",
       "  )\n",
       ")"
      ]
     },
     "execution_count": 25,
     "metadata": {},
     "output_type": "execute_result"
    }
   ],
   "source": [
    "torch.load('zz.pth')"
   ]
  },
  {
   "cell_type": "code",
   "execution_count": 23,
   "metadata": {},
   "outputs": [
    {
     "name": "stderr",
     "output_type": "stream",
     "text": [
      "83it [00:00, 415.93it/s]                        \n",
      "83it [00:00, 415.45it/s]                        "
     ]
    },
    {
     "name": "stdout",
     "output_type": "stream",
     "text": [
      "Train acc:\t0.51901\n",
      "Test  acc:\t0.48375\n"
     ]
    },
    {
     "name": "stderr",
     "output_type": "stream",
     "text": [
      "\n",
      "83it [00:00, 415.60it/s]                        \n",
      "83it [00:00, 415.08it/s]                        \n",
      "83it [00:00, 416.48it/s]                        \n",
      "83it [00:00, 415.22it/s]                        \n",
      "83it [00:00, 416.83it/s]                        \n",
      "  0%|          | 0/82 [00:00<?, ?it/s]"
     ]
    },
    {
     "name": "stdout",
     "output_type": "stream",
     "text": [
      "Train acc:\t0.70913\n",
      "Test  acc:\t0.59715\n"
     ]
    },
    {
     "name": "stderr",
     "output_type": "stream",
     "text": [
      "83it [00:00, 417.20it/s]                        \n",
      "83it [00:00, 419.80it/s]                        \n",
      "83it [00:00, 433.82it/s]                        \n",
      "83it [00:00, 437.85it/s]                        \n",
      "83it [00:00, 436.36it/s]                        \n",
      "  0%|          | 0/82 [00:00<?, ?it/s]"
     ]
    },
    {
     "name": "stdout",
     "output_type": "stream",
     "text": [
      "Train acc:\t0.79762\n",
      "Test  acc:\t0.61388\n"
     ]
    },
    {
     "name": "stderr",
     "output_type": "stream",
     "text": [
      "83it [00:00, 438.54it/s]                        \n",
      "83it [00:00, 439.23it/s]                        \n",
      "83it [00:00, 437.81it/s]                        \n",
      "83it [00:00, 438.76it/s]                        \n",
      "83it [00:00, 451.94it/s]                        \n",
      "  0%|          | 0/82 [00:00<?, ?it/s]"
     ]
    },
    {
     "name": "stdout",
     "output_type": "stream",
     "text": [
      "Train acc:\t0.81949\n",
      "Test  acc:\t0.61027\n"
     ]
    },
    {
     "name": "stderr",
     "output_type": "stream",
     "text": [
      "83it [00:00, 444.11it/s]                        \n",
      "83it [00:00, 455.97it/s]                        \n",
      "83it [00:00, 445.62it/s]                        \n",
      "83it [00:00, 449.37it/s]                        \n",
      "83it [00:00, 452.22it/s]                        \n",
      "  0%|          | 0/82 [00:00<?, ?it/s]"
     ]
    },
    {
     "name": "stdout",
     "output_type": "stream",
     "text": [
      "Train acc:\t0.83584\n",
      "Test  acc:\t0.59249\n"
     ]
    },
    {
     "name": "stderr",
     "output_type": "stream",
     "text": [
      "83it [00:00, 447.99it/s]                        \n",
      "83it [00:00, 447.06it/s]                        \n",
      "83it [00:00, 448.23it/s]                        \n",
      "83it [00:00, 455.43it/s]                        \n",
      "83it [00:00, 443.13it/s]                        \n",
      "  0%|          | 0/82 [00:00<?, ?it/s]"
     ]
    },
    {
     "name": "stdout",
     "output_type": "stream",
     "text": [
      "Train acc:\t0.83232\n",
      "Test  acc:\t0.57500\n"
     ]
    },
    {
     "name": "stderr",
     "output_type": "stream",
     "text": [
      "83it [00:00, 449.94it/s]                        \n",
      "83it [00:00, 442.52it/s]                        \n",
      "83it [00:00, 440.53it/s]                        \n",
      "83it [00:00, 443.10it/s]                        \n",
      "83it [00:00, 443.07it/s]                        \n",
      "  0%|          | 0/82 [00:00<?, ?it/s]"
     ]
    },
    {
     "name": "stdout",
     "output_type": "stream",
     "text": [
      "Train acc:\t0.87795\n",
      "Test  acc:\t0.58783\n"
     ]
    },
    {
     "name": "stderr",
     "output_type": "stream",
     "text": [
      "83it [00:00, 444.22it/s]                        \n",
      "83it [00:00, 444.20it/s]                        \n",
      "83it [00:00, 449.35it/s]                        \n",
      "83it [00:00, 443.37it/s]                        \n",
      "83it [00:00, 445.82it/s]                        \n",
      "  0%|          | 0/82 [00:00<?, ?it/s]"
     ]
    },
    {
     "name": "stdout",
     "output_type": "stream",
     "text": [
      "Train acc:\t0.97386\n",
      "Test  acc:\t0.62281\n"
     ]
    },
    {
     "name": "stderr",
     "output_type": "stream",
     "text": [
      "83it [00:00, 446.86it/s]                        \n",
      "83it [00:00, 450.45it/s]                        \n",
      "83it [00:00, 446.06it/s]                        \n",
      "83it [00:00, 445.09it/s]                        \n",
      "83it [00:00, 443.53it/s]                        \n",
      "  0%|          | 0/82 [00:00<?, ?it/s]"
     ]
    },
    {
     "name": "stdout",
     "output_type": "stream",
     "text": [
      "Train acc:\t0.99639\n",
      "Test  acc:\t0.63926\n"
     ]
    },
    {
     "name": "stderr",
     "output_type": "stream",
     "text": [
      "83it [00:00, 449.89it/s]                        \n",
      "83it [00:00, 445.51it/s]                        \n",
      "83it [00:00, 452.62it/s]                        \n",
      "83it [00:00, 442.96it/s]                        \n",
      "83it [00:00, 454.32it/s]                        \n",
      "  0%|          | 0/82 [00:00<?, ?it/s]"
     ]
    },
    {
     "name": "stdout",
     "output_type": "stream",
     "text": [
      "Train acc:\t1.00000\n",
      "Test  acc:\t0.64268\n"
     ]
    },
    {
     "name": "stderr",
     "output_type": "stream",
     "text": [
      "83it [00:00, 469.65it/s]                        \n",
      "83it [00:00, 462.42it/s]                        \n",
      "83it [00:00, 467.71it/s]                        \n",
      "83it [00:00, 433.12it/s]                        \n",
      "83it [00:00, 428.16it/s]                        \n",
      "  0%|          | 0/82 [00:00<?, ?it/s]"
     ]
    },
    {
     "name": "stdout",
     "output_type": "stream",
     "text": [
      "Train acc:\t1.00000\n",
      "Test  acc:\t0.64677\n"
     ]
    },
    {
     "name": "stderr",
     "output_type": "stream",
     "text": [
      "83it [00:00, 403.94it/s]                        \n",
      "83it [00:00, 426.49it/s]                        \n",
      "83it [00:00, 421.84it/s]                        \n",
      "83it [00:00, 427.19it/s]                        \n",
      "83it [00:00, 426.81it/s]                        \n",
      "  0%|          | 0/82 [00:00<?, ?it/s]"
     ]
    },
    {
     "name": "stdout",
     "output_type": "stream",
     "text": [
      "Train acc:\t1.00000\n",
      "Test  acc:\t0.64667\n"
     ]
    },
    {
     "name": "stderr",
     "output_type": "stream",
     "text": [
      "83it [00:00, 425.18it/s]                        \n",
      "83it [00:00, 422.61it/s]                        \n",
      "83it [00:00, 427.99it/s]                        \n",
      "83it [00:00, 424.91it/s]                        \n",
      "83it [00:00, 427.58it/s]                        \n",
      "  0%|          | 0/82 [00:00<?, ?it/s]"
     ]
    },
    {
     "name": "stdout",
     "output_type": "stream",
     "text": [
      "Train acc:\t1.00000\n",
      "Test  acc:\t0.64639\n"
     ]
    },
    {
     "name": "stderr",
     "output_type": "stream",
     "text": [
      "83it [00:00, 425.89it/s]                        \n",
      "83it [00:00, 427.16it/s]                        \n",
      "83it [00:00, 427.35it/s]                        \n",
      "83it [00:00, 428.18it/s]                        \n",
      "83it [00:00, 426.49it/s]                        \n",
      "  0%|          | 0/82 [00:00<?, ?it/s]"
     ]
    },
    {
     "name": "stdout",
     "output_type": "stream",
     "text": [
      "Train acc:\t1.00000\n",
      "Test  acc:\t0.64629\n"
     ]
    },
    {
     "name": "stderr",
     "output_type": "stream",
     "text": [
      "83it [00:00, 428.12it/s]                        \n",
      "83it [00:00, 438.48it/s]                        \n",
      "83it [00:00, 448.09it/s]                        \n"
     ]
    }
   ],
   "source": [
    "from tqdm import tqdm\n",
    "import torch.optim as optim\n",
    "criterion = nn.CrossEntropyLoss()\n",
    "net = CNN().cuda()\n",
    "optimizer = optim.Adam(net.parameters(), lr=0.001)\n",
    "for i in range(70):\n",
    "    net.train()\n",
    "    loss_sum = 0\n",
    "    for x,y in tqdm(trainL):            \n",
    "        x,y=x.cuda(),y.cuda()\n",
    "        optimizer.zero_grad()\n",
    "        outputs = net(x)\n",
    "        loss = criterion(outputs,y)\n",
    "        loss.backward()\n",
    "        loss_sum += loss\n",
    "        optimizer.step()\n",
    "    # print(loss_sum)\n",
    "    net.eval()\n",
    "    if i%5==0:\n",
    "        zz.get_accuracy(net,trainL,testL)"
   ]
  },
  {
   "cell_type": "code",
   "execution_count": 24,
   "metadata": {},
   "outputs": [],
   "source": [
    "torch.save(net,'zz.pth')"
   ]
  },
  {
   "cell_type": "code",
   "execution_count": null,
   "metadata": {},
   "outputs": [],
   "source": []
  }
 ],
 "metadata": {
  "interpreter": {
   "hash": "767d51c1340bd893661ea55ea3124f6de3c7a262a8b4abca0554b478b1e2ff90"
  },
  "kernelspec": {
   "display_name": "Python 3.6.9 64-bit",
   "name": "python3"
  },
  "language_info": {
   "codemirror_mode": {
    "name": "ipython",
    "version": 3
   },
   "file_extension": ".py",
   "mimetype": "text/x-python",
   "name": "python",
   "nbconvert_exporter": "python",
   "pygments_lexer": "ipython3",
   "version": "3.6.9"
  },
  "orig_nbformat": 4
 },
 "nbformat": 4,
 "nbformat_minor": 2
}